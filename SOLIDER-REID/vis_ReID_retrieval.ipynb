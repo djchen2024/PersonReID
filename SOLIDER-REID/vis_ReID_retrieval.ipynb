{
 "cells": [
  {
   "cell_type": "code",
   "execution_count": null,
   "metadata": {},
   "outputs": [],
   "source": [
    "import numpy as np\n",
    "import os\n",
    "import matplotlib\n",
    "matplotlib.use('agg')\n",
    "import matplotlib.pyplot as plt\n",
    "\n",
    "\n",
    "#Show result\n",
    "def imshow(path, title=None):\n",
    "    \"\"\"Imshow for Tensor.\"\"\"\n",
    "    im = plt.imread(path)\n",
    "    plt.imshow(im)\n",
    "    if title is not None:\n",
    "        plt.title(title)\n",
    "    plt.pause(0.001)  # pause a bit so that plots are updated\n",
    "    "
   ]
  },
  {
   "cell_type": "code",
   "execution_count": null,
   "metadata": {},
   "outputs": [
    {
     "name": "stdout",
     "output_type": "stream",
     "text": [
      "7104\n",
      "(2044, 5060)\n",
      "Query path :  ../../data/reid_CUSTOM_v2/query/0052_c1_00034.jpg   Query pid:  0052   Camera pid:  c1\n",
      "Q-G Distant:  [0.3396999  0.36493987 0.37900108 0.38485807 0.38844195 0.39263263\n",
      " 0.3942169  0.40559098 0.4208278  0.42946544]\n",
      "Top 10 images are as follow:\n",
      "../../data/reid_CUSTOM_v2/bounding_box_test/0052_c2_00083.jpg\n"
     ]
    },
    {
     "name": "stdout",
     "output_type": "stream",
     "text": [
      "../../data/reid_CUSTOM_v2/bounding_box_test/0052_c2_00214.jpg\n",
      "../../data/reid_CUSTOM_v2/bounding_box_test/0052_c2_00144.jpg\n",
      "../../data/reid_CUSTOM_v2/bounding_box_test/0052_c2_00135.jpg\n",
      "../../data/reid_CUSTOM_v2/bounding_box_test/0052_c2_00157.jpg\n",
      "../../data/reid_CUSTOM_v2/bounding_box_test/0052_c2_00126.jpg\n",
      "../../data/reid_CUSTOM_v2/bounding_box_test/0052_c2_00115.jpg\n",
      "../../data/reid_CUSTOM_v2/bounding_box_test/0052_c2_00246.jpg\n",
      "../../data/reid_CUSTOM_v2/bounding_box_test/0052_c2_00100.jpg\n",
      "../../data/reid_CUSTOM_v2/bounding_box_test/0052_c2_00091.jpg\n"
     ]
    }
   ],
   "source": [
    "# loading eval results ---------------\n",
    "distmat = np.load(\"distmat.npy\") # do_inference from SOLIDER-REID/processor/processor.py\n",
    "f = open('img_path_list.txt', 'r')\n",
    "img_path_list = f.readlines()\n",
    "f.close()\n",
    "print(len(img_path_list))\n",
    "print(distmat.shape)\n",
    "assert len(img_path_list)==sum(distmat.shape)\n",
    "num_query, num_gallery = distmat.shape\n",
    "\n",
    "\n",
    "\n",
    "\n",
    "\n",
    "\n",
    "query_index = 648                                                  # between [1, distmat.shape.[0]]\n",
    "assert query_index <= num_query\n",
    "sorted_query_gallery_index = np.argsort(distmat[query_index,:])    # from small to large\n",
    "# sorted_query_gallery_index = sorted_query_gallery_index[::-1]     # from large to small\n",
    "sorted_gallery_index = sorted_query_gallery_index + num_query\n",
    "\n",
    "# Visualize the rank result\n",
    "query_path = img_path_list[query_index][:-1]\n",
    "query_pid = os.path.basename(query_path).split(\"_\", 1)[0] \n",
    "query_cid = os.path.basename(query_path).split(\"_\", 2)[1] \n",
    "print(\"Query path : \", query_path, \"  Query pid: \", query_pid, \"  Camera pid: \", query_cid)\n",
    "\n",
    "# Plot images, show distant, pid, cid --------------------------\n",
    "print(\"Q-G Distant: \", distmat[query_index,sorted_query_gallery_index[:10]])\n",
    "\n",
    "\n",
    "print('Top 10 images are as follow:')\n",
    "fig = plt.figure(figsize=(20,4))\n",
    "ax = plt.subplot(1,12,1)\n",
    "ax.axis('on')\n",
    "imshow(query_path,'Query \\n' + query_pid + \"  \" + query_cid)\n",
    "for i in range(10):\n",
    "    ax = plt.subplot(1,12,i+3)\n",
    "    ax.axis('off')\n",
    "    gallery_path = img_path_list[sorted_gallery_index[i]][:-1]\n",
    "    gallery_pid = os.path.basename(gallery_path).split(\"_\", 1)[0]\n",
    "    gallery_cid = os.path.basename(gallery_path).split(\"_\", 2)[1] \n",
    "    imshow(gallery_path)\n",
    "    if gallery_pid == query_pid:\n",
    "        ax.set_title('%d\\n'%(i+1) + gallery_pid + \"  \" + gallery_cid, color='green', fontsize=12)\n",
    "        # ax.spines['bottom'].set_color('green')\n",
    "        # ax.spines['top'].set_color('green')\n",
    "    else:\n",
    "        ax.set_title('%d\\n'%(i+1) + gallery_pid + \"  \" + gallery_cid, color='red', fontsize=16)\n",
    "    print(gallery_path)\n",
    "fig.savefig(\"./vis/vis_ReID_retrieval.png\")"
   ]
  }
 ],
 "metadata": {
  "kernelspec": {
   "display_name": "solider",
   "language": "python",
   "name": "python3"
  },
  "language_info": {
   "codemirror_mode": {
    "name": "ipython",
    "version": 3
   },
   "file_extension": ".py",
   "mimetype": "text/x-python",
   "name": "python",
   "nbconvert_exporter": "python",
   "pygments_lexer": "ipython3",
   "version": "3.10.13"
  }
 },
 "nbformat": 4,
 "nbformat_minor": 2
}
